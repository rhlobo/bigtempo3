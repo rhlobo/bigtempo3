{
 "metadata": {
  "name": "tutotial"
 },
 "nbformat": 3,
 "nbformat_minor": 0,
 "worksheets": [
  {
   "cells": [
    {
     "cell_type": "markdown",
     "metadata": {},
     "source": [
      "# bigtempo\n",
      "## Getting Started\n",
      "\n",
      "We\u2019ll start with a quick, non-comprehensive overview of the fundamental concepts to get you started. \n",
      "\n",
      "This document was created using [ipython notebook][1], great tool for prototyping. Highly recommended.\n",
      "\n",
      "### IMPORTANT: The engine instance\n",
      "In this example, everything will be keept contained in a single module, but for larger projects you want to create a dedicated module for the engine instance. Since this instance is used as the entry-point for everything you want to do with __bigtempo__, like creating datasources, using selections and evaluating data, it must be possible for other modules to import it.\n",
      "\n",
      "[1]: http://ipython.org/notebook.html"
     ]
    },
    {
     "cell_type": "code",
     "collapsed": false,
     "input": [
      "import bigtempo.core\n",
      "\n",
      "engine = bigtempo.core.DatasourceEngine()"
     ],
     "language": "python",
     "metadata": {},
     "outputs": [],
     "prompt_number": 2
    },
    {
     "cell_type": "markdown",
     "metadata": {},
     "source": [
      "Saving the code above as `instances.py`, for instance, will you enable to reach the same engine instance through an import:"
     ]
    },
    {
     "cell_type": "code",
     "collapsed": false,
     "input": [
      "from instances import engine\n",
      "\n",
      "engine"
     ],
     "language": "python",
     "metadata": {},
     "outputs": [
      {
       "output_type": "pyout",
       "prompt_number": 3,
       "text": [
        "<bigtempo.core.DatasourceEngine at 0xa0f994c>"
       ]
      }
     ],
     "prompt_number": 3
    },
    {
     "cell_type": "markdown",
     "metadata": {},
     "source": [
      "### Creating a simple datasource\n",
      "The default datasource must the following contract:"
     ]
    },
    {
     "cell_type": "code",
     "collapsed": false,
     "input": [
      "import numpy\n",
      "import pandas\n",
      "\n",
      "\n",
      "@engine.datasource('RANDOM', tags=['RAW'])\n",
      "class RawRandom(object):\n",
      "\n",
      "    def evaluate(self, context, symbol, start=None, end=None):\n",
      "        column_name = symbol\n",
      "        data = numpy.random.randn(100)\n",
      "        index = pandas.date_range('1/1/2000', periods=100) \n",
      "\n",
      "        return pandas.DataFrame(data, index=index, columns=[column_name])\n"
     ],
     "language": "python",
     "metadata": {},
     "outputs": [],
     "prompt_number": 11
    },
    {
     "cell_type": "markdown",
     "metadata": {},
     "source": [
      "Using the engine instance, we can then verify the datasource was registered successfuly:"
     ]
    },
    {
     "cell_type": "code",
     "collapsed": false,
     "input": [
      "engine.select().all()"
     ],
     "language": "python",
     "metadata": {},
     "outputs": [
      {
       "output_type": "pyout",
       "prompt_number": 14,
       "text": [
        "<selection 187552588 currently-with=\"[\n",
        "    \"RANDOM\"\n",
        "]\">"
       ]
      }
     ],
     "prompt_number": 14
    },
    {
     "cell_type": "markdown",
     "metadata": {},
     "source": [
      "Selections make it easy to pick groups of datasources accordingly using its tag definitions.\n",
      "\n",
      "A selection can be iterated, and also provides a getter method in which you can get an specific datasource processor:"
     ]
    },
    {
     "cell_type": "code",
     "collapsed": false,
     "input": [
      "selection = engine.select().all()\n",
      "result = selection.get(0).process('data_variant_name')\n",
      "result.plot()"
     ],
     "language": "python",
     "metadata": {},
     "outputs": [
      {
       "output_type": "pyout",
       "prompt_number": 17,
       "text": [
        "<matplotlib.axes.AxesSubplot at 0xb2ebc2c>"
       ]
      },
      {
       "output_type": "display_data",
       "png": "[encoded data removed]"
      }
     ],
     "prompt_number": 17
    },
    {
     "cell_type": "markdown",
     "metadata": {},
     "source": [
      "Now, let's create some other datasources that uses the first one as a dependency:"
     ]
    },
    {
     "cell_type": "code",
     "collapsed": false,
     "input": [
      "@engine.datasource('WEEKLY',\n",
      "                   dependencies=['RANDOM'],\n",
      "                   lookback=6,\n",
      "                   tags=['WEEKLY', 'TAG'])\n",
      "class Weekly(object):\n",
      "\n",
      "    def evaluate(self, context, symbol, start=None, end=None):\n",
      "        data = context.dependencies('RANDOM')\n",
      "        index = dateutils.week_range(start, end)\n",
      "\n",
      "        result = pandas.DataFrame(columns=df_norm.columns, index=df_index)\n",
      "\n",
      "        return result.dropna()\n"
     ],
     "language": "python",
     "metadata": {},
     "outputs": []
    }
   ],
   "metadata": {}
  }
 ]
}