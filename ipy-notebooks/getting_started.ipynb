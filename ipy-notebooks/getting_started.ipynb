{
 "metadata": {
  "name": ""
 },
 "nbformat": 3,
 "nbformat_minor": 0,
 "worksheets": [
  {
   "cells": [
    {
     "cell_type": "markdown",
     "metadata": {},
     "source": [
      "## Getting Started\n",
      "\n",
      "We\u2019ll start with a quick, non-comprehensive overview of the fundamental concepts to get you started. \n",
      "\n",
      "### Contextualizing the example\n",
      "This example makes use of a fictitious sample metric for 2 imaginary cities: `CITY_A` and `CITY_B`. All the data was randomly generated and does not make any allusions to reality. This `Getting Started` was created using [ipython notebook][1], a great tool for prototyping, and it is available within the project at `ipy-notebooks/getting_started.ipynb`. This same scenario is implemented in an acceptance test at `bigtempo/tests/acceptance_tests.py`.\n",
      "\n",
      "[1]: http://ipython.org/notebook.html\n",
      "\n",
      "### IMPORTANT: The engine instance\n",
      "In this example, everything will be keept in a single module, but for larger projects you want to create a dedicated module for the engine instance. Since this instance is used as the entry-point for everything you want to do with __bigtempo__, like creating datasources, using selections and evaluating data, it must be possible for other modules to import it."
     ]
    },
    {
     "cell_type": "code",
     "collapsed": false,
     "input": [
      "# Importing bigtempo and creating an engine instance (this may be done in a dedicated module)\n",
      "import bigtempo.core as core\n",
      "engine = core.DatasourceEngine()"
     ],
     "language": "python",
     "metadata": {},
     "outputs": [],
     "prompt_number": 1
    },
    {
     "cell_type": "markdown",
     "metadata": {},
     "source": [
      "### Datasources\n",
      "A datasource can be both used directly by you or as input for other datasources. It can be defined as explained bellow:"
     ]
    },
    {
     "cell_type": "code",
     "collapsed": false,
     "input": [
      "'''\n",
      "The `datasource` decorator registers a class a new datasource\n",
      "\n",
      "Args:\n",
      "    reference: A string reference for this datasource\n",
      "    dependencies: A list of references for the datasources it needs during evaluation time (OPTIONAL)\n",
      "    tags: A list of tags for this datasource (OPTIONAL)\n",
      "    lookback: The number of periods before the start date that is needed by the evaluation (OPTIONAL)\n",
      "    frequency: Represents the frequency period (OPTIONAL)\n",
      "\n",
      "         ------------------------------------\n",
      "         | Possible Frequencies             |\n",
      "         ------------------------------------\n",
      "         | B     | business day             |\n",
      "         | W     | weekly frequency         |\n",
      "         | M     | month end                |\n",
      "         | BM    | business month end       |\n",
      "         | MS    | month start              |\n",
      "         | BMS   | business month start     |\n",
      "         | Q     | quarter end              |\n",
      "         | BQ    | business quarter end     |\n",
      "         | QS    | quarter start            |\n",
      "         | BQS   | business quarter start   |\n",
      "         | A     | year end                 |\n",
      "         | BA    | business year end        |\n",
      "         | AS    | year start               |\n",
      "         | BAS   | business year start      |\n",
      "         | H     | hourly frequency         |\n",
      "         | T     | minutely                 |\n",
      "         | S     | secondly                 |\n",
      "         | L     | milliseonds              |\n",
      "         | U     | microseconds             |\n",
      "         ------------------------------------\n",
      "'''\n",
      "@engine.datasource(reference, dependencies=[], tags=[], lookback=0, frequency='B')\n",
      "class Sample(object):\n",
      "\n",
      "    def evaluate(self, context, symbol, start=None, end=None):\n",
      "        '''\n",
      "        The `evaluate` should be able to process data (from other datasources or not) \n",
      "        for a given symbol (data category) in a certain period.\n",
      "        \n",
      "        Args:\n",
      "            context: object that holds data requested as dependencies\n",
      "            symbol: istinguishes the \"variation\" of the data requested: In the stock market context, it would be used to specify with stock paper that should be processed, and in this example it represents the name of one city ('CITY_A' or 'CITY_B').\n",
      "            start and end: optional datetime objects that are used to specify the desired time range.\n",
      "            \n",
      "            It's important to notice that the data returned by the datasource is automaticaly sliced with __start__ and __end__. They are present in the method's signature only so that you can spare some processing time.\n",
      "        Returns:\n",
      "            pandas.DataFrame object\n",
      "        '''\n",
      "        return ###"
     ],
     "language": "python",
     "metadata": {},
     "outputs": [],
     "prompt_number": 2
    },
    {
     "cell_type": "markdown",
     "metadata": {},
     "source": [
      "So, being pratical,"
     ]
    },
    {
     "cell_type": "code",
     "collapsed": false,
     "input": [
      "# General imports\n",
      "import sys\n",
      "import pandas\n",
      "import datetime"
     ],
     "language": "python",
     "metadata": {},
     "outputs": [],
     "prompt_number": 3
    },
    {
     "cell_type": "code",
     "collapsed": false,
     "input": [
      "# Used many times. Used here only for the sake of legibility\n",
      "dt = datetime.datetime\n",
      "\n",
      "# Cities being analysed\n",
      "cities = ['CITY_A', 'CITY_B']"
     ],
     "language": "python",
     "metadata": {},
     "outputs": [],
     "prompt_number": 4
    },
    {
     "cell_type": "code",
     "collapsed": false,
     "input": [
      "@engine.datasource('SAMPLE', tags=['SAMPLE_IN', 'DAILY'])\n",
      "class Sample(object):\n",
      "    '''\n",
      "    Simple sample, returns datasource based on csv file.\n",
      "    '''\n",
      "\n",
      "    def evaluate(self, context, symbol, start=None, end=None):\n",
      "        return pandas.DataFrame.from_csv('SAMPLE{%s}.csv' % symbol)"
     ],
     "language": "python",
     "metadata": {},
     "outputs": [],
     "prompt_number": 5
    },
    {
     "cell_type": "markdown",
     "metadata": {},
     "source": [
      "defines and registers a datasource that:\n",
      "\n",
      "- is referenced by the name `'SAMPLE'`\n",
      "- is registered with 2 tags: `'SAMPLE_IN'` and `'DAILY'`\n",
      "- returns data loaded from a `.csv`\n",
      "\n",
      "Reference and tags are important because it is how you can locate datasources (either directly or through selection queries) and process them...\n",
      "\n",
      "And as we touch this matter, we make use of a datasource through a `get` method the `engine` provides, which - given a reference - returns a datasource processor:"
     ]
    },
    {
     "cell_type": "code",
     "collapsed": false,
     "input": [
      "# do not forget that start and end datetimes are both optional\n",
      "result = engine.get(\"SAMPLE\").process('CITY_A', dt(2001, 1, 1), dt(2001, 12, 31))\n",
      "result.plot()"
     ],
     "language": "python",
     "metadata": {},
     "outputs": [
      {
       "metadata": {},
       "output_type": "pyout",
       "prompt_number": 6,
       "text": [
        "<matplotlib.axes.AxesSubplot at 0xa17394c>"
       ]
      },
      {
       "metadata": {},
       "output_type": "display_data",
       "png": "[encoded data removed]",
       "text": [
        "<matplotlib.figure.Figure at 0xa169f6c>"
       ]
      }
     ],
     "prompt_number": 6
    },
    {
     "cell_type": "markdown",
     "metadata": {},
     "source": [
      "Another example:"
     ]
    },
    {
     "cell_type": "code",
     "collapsed": false,
     "input": [
      "@engine.datasource('WEEKLY_SAMPLE',\n",
      "                   dependencies=['SAMPLE'],\n",
      "                   tags=['SAMPLE_IN', 'WEEKLY'],\n",
      "                   frequency='W-FRI')\n",
      "class Weekly(object):\n",
      "    '''\n",
      "    Resample of the SAMPLE datasource on a weekly base.\n",
      "    '''\n",
      "\n",
      "    def evaluate(self, context, symbol, start=None, end=None):\n",
      "        return context.dependencies('SAMPLE').resample('W-FRI', how=lambda x: x[-1])"
     ],
     "language": "python",
     "metadata": {},
     "outputs": [],
     "prompt_number": 7
    },
    {
     "cell_type": "markdown",
     "metadata": {},
     "source": [
      "Again, it can be instantly used:"
     ]
    },
    {
     "cell_type": "code",
     "collapsed": false,
     "input": [
      "engine.get(\"WEEKLY_SAMPLE\").process('CITY_A', dt(2001, 1, 1), dt(2001, 12, 31)).plot()"
     ],
     "language": "python",
     "metadata": {},
     "outputs": [
      {
       "metadata": {},
       "output_type": "pyout",
       "prompt_number": 8,
       "text": [
        "<matplotlib.axes.AxesSubplot at 0xa48f50c>"
       ]
      },
      {
       "metadata": {},
       "output_type": "display_data",
       "png": "[encoded data removed]",
       "text": [
        "<matplotlib.figure.Figure at 0xa48fe0c>"
       ]
      }
     ],
     "prompt_number": 8
    },
    {
     "cell_type": "markdown",
     "metadata": {},
     "source": [
      "### Selections\n",
      "\n",
      "Selections will be better explained later on, but take a peek at how to query references and tags:"
     ]
    },
    {
     "cell_type": "code",
     "collapsed": false,
     "input": [
      "engine.select('DAILY')"
     ],
     "language": "python",
     "metadata": {},
     "outputs": [
      {
       "metadata": {},
       "output_type": "pyout",
       "prompt_number": 9,
       "text": [
        "<selection 171250092 currently-with=\"[\n",
        "    \"SAMPLE\"\n",
        "]\">"
       ]
      }
     ],
     "prompt_number": 9
    },
    {
     "cell_type": "code",
     "collapsed": false,
     "input": [
      "engine.select('SAMPLE_IN')"
     ],
     "language": "python",
     "metadata": {},
     "outputs": [
      {
       "metadata": {},
       "output_type": "pyout",
       "prompt_number": 10,
       "text": [
        "<selection 171250124 currently-with=\"[\n",
        "    \"SAMPLE\", \n",
        "    \"WEEKLY_SAMPLE\"\n",
        "]\">"
       ]
      }
     ],
     "prompt_number": 10
    },
    {
     "cell_type": "code",
     "collapsed": false,
     "input": [
      "engine.select('SAMPLE')"
     ],
     "language": "python",
     "metadata": {},
     "outputs": [
      {
       "metadata": {},
       "output_type": "pyout",
       "prompt_number": 11,
       "text": [
        "<selection 171233644 currently-with=\"[\n",
        "    \"SAMPLE\"\n",
        "]\">"
       ]
      }
     ],
     "prompt_number": 11
    },
    {
     "cell_type": "code",
     "collapsed": false,
     "input": [
      "engine.select().all()"
     ],
     "language": "python",
     "metadata": {},
     "outputs": [
      {
       "metadata": {},
       "output_type": "pyout",
       "prompt_number": 12,
       "text": [
        "<selection 174204268 currently-with=\"[\n",
        "    \"SAMPLE\", \n",
        "    \"WEEKLY_SAMPLE\"\n",
        "]\">"
       ]
      }
     ],
     "prompt_number": 12
    },
    {
     "cell_type": "markdown",
     "metadata": {},
     "source": [
      "It will be used so we can better explain: the great"
     ]
    },
    {
     "cell_type": "markdown",
     "metadata": {},
     "source": [
      "### Registration listeners!\n",
      "Registration listeners are very useful. They may be used in many ways, one of which, is datasource generation:"
     ]
    },
    {
     "cell_type": "code",
     "collapsed": false,
     "input": [
      "'''\n",
      "The `for_each` engine decorator (method) registers a function as a listener, \n",
      "called upon each (existing and future) registration meeting the given selections.\n",
      "\n",
      "The listener/factory method receives an argument for each selection passed as argument.\n",
      "\n",
      "Args:\n",
      "    *selection\n",
      "\n",
      "Calls the decorated function (callable) multiple times, each time passing as arguments \n",
      "a combination between the results of the given selections.\n",
      "\n",
      "Example\n",
      "-------\n",
      "    \n",
      "    Given:\n",
      "        a selection `s1` with 'A', 'B', and 'C'\n",
      "        a selection `s2` with '1' and '2'\n",
      "        \n",
      "    @engine.for_each(s1, s2)\n",
      "    def _listener(s1_ref, s2_ref):\n",
      "        print '%s:%s'\n",
      "    \n",
      "    Would print out:\n",
      "        A1\n",
      "        A2\n",
      "        B1\n",
      "        B2\n",
      "        C1\n",
      "        C2\n",
      "    \n",
      "    And, if later on a new datasource '3' matched `s2`, the listener would be automaticaly \n",
      "    called and the following would be printed:\n",
      "        A3\n",
      "        B3\n",
      "        C3\n",
      "\n",
      "'''\n",
      "@engine.for_each(engine.select('SAMPLE_IN'))\n",
      "def _rolling_mean_factory(source_reference):\n",
      "    \n",
      "    periods = 7\n",
      "\n",
      "    @engine.datasource('ROLLING_MEAN(%i):%s' % (periods, source_reference), # Each datasource reference should be unique\n",
      "                       dependencies=[source_reference], # Each datasource is based on a different dependency\n",
      "                       lookback=periods,\n",
      "                       tags=['ROLLING_MEAN'])\n",
      "    class RollingMean(object):\n",
      "        '''\n",
      "        %i period rolling mean for each datasource tagged with `'SAMPLE_IN'`\n",
      "        ''' % periods\n",
      "\n",
      "        def evaluate(self, context, symbol, start=None, end=None):\n",
      "            input_ds = context.dependencies(source_reference)\n",
      "            return pandas.rolling_mean(input_ds, periods)"
     ],
     "language": "python",
     "metadata": {},
     "outputs": [],
     "prompt_number": 13
    },
    {
     "cell_type": "markdown",
     "metadata": {},
     "source": [
      "This mechanism, used in conjunction with selections, is very powerful in the cenario where you need to create variations of processments. \n",
      "\n",
      "Surely, variations can also be declared through a `for loop`, and both things can be applyed recursively:"
     ]
    },
    {
     "cell_type": "code",
     "collapsed": false,
     "input": [
      "@engine.for_each(engine.select('SAMPLE_IN').union('ROLLING_MEAN'))\n",
      "def _percentual_change_factory(source_reference):\n",
      "\n",
      "    for periods in [1, 3, 5]:\n",
      "        @engine.datasource('PERCENTUALT_CHANGE(%i):%s' % (periods, source_reference),\n",
      "                           dependencies=[source_reference],\n",
      "                           lookback=periods,\n",
      "                           tags=['PERCENTUALT_CHANGE', 'PERCENTUALT_CHANGE(%i)' % periods])\n",
      "        class PctChange(object):\n",
      "    \n",
      "            def evaluate(self, context, symbol, start=None, end=None):\n",
      "                return context.dependencies(source_reference).pct_change(periods=periods)"
     ],
     "language": "python",
     "metadata": {},
     "outputs": [],
     "prompt_number": 14
    },
    {
     "cell_type": "markdown",
     "metadata": {},
     "source": [
      "Off course, the `for_each` decorator also automaticaly calls the listener for newly registered datasources that match the selections passed as arguments:"
     ]
    },
    {
     "cell_type": "code",
     "collapsed": false,
     "input": [
      "@engine.datasource('MONTHLY_SAMPLE',\n",
      "                   dependencies=['SAMPLE'],\n",
      "                   tags=['SAMPLE_IN', 'MONTHLY'],\n",
      "                   frequency='M')\n",
      "class Monthly(object):\n",
      "\n",
      "    def evaluate(self, context, symbol, start=None, end=None):\n",
      "        return context.dependencies('SAMPLE').resample('M', how=lambda x: x[-1])"
     ],
     "language": "python",
     "metadata": {},
     "outputs": [],
     "prompt_number": 15
    },
    {
     "cell_type": "markdown",
     "metadata": {},
     "source": [
      "There is a variation of this decorator: `for_synched` works similarly, but only calls the listener for the combinations where there is a common \"datasource origin\". Consider the following examples:"
     ]
    },
    {
     "cell_type": "code",
     "collapsed": false,
     "input": [
      "@engine.for_each(engine.select('SAMPLE_IN'), engine.select('ROLLING_MEAN'))\n",
      "def _listener(*kargs):\n",
      "    print kargs"
     ],
     "language": "python",
     "metadata": {},
     "outputs": [
      {
       "output_type": "stream",
       "stream": "stdout",
       "text": [
        "('SAMPLE', 'ROLLING_MEAN(7):MONTHLY_SAMPLE')\n",
        "('SAMPLE', 'ROLLING_MEAN(7):WEEKLY_SAMPLE')\n",
        "('SAMPLE', 'ROLLING_MEAN(7):SAMPLE')\n",
        "('MONTHLY_SAMPLE', 'ROLLING_MEAN(7):MONTHLY_SAMPLE')\n",
        "('MONTHLY_SAMPLE', 'ROLLING_MEAN(7):WEEKLY_SAMPLE')\n",
        "('MONTHLY_SAMPLE', 'ROLLING_MEAN(7):SAMPLE')\n",
        "('WEEKLY_SAMPLE', 'ROLLING_MEAN(7):MONTHLY_SAMPLE')\n",
        "('WEEKLY_SAMPLE', 'ROLLING_MEAN(7):WEEKLY_SAMPLE')\n",
        "('WEEKLY_SAMPLE', 'ROLLING_MEAN(7):SAMPLE')\n"
       ]
      }
     ],
     "prompt_number": 16
    },
    {
     "cell_type": "code",
     "collapsed": false,
     "input": [
      "@engine.for_synched(engine.select('SAMPLE_IN'), engine.select('ROLLING_MEAN'))\n",
      "def _listener(*kargs):\n",
      "    print kargs"
     ],
     "language": "python",
     "metadata": {},
     "outputs": [
      {
       "output_type": "stream",
       "stream": "stdout",
       "text": [
        "('SAMPLE', 'ROLLING_MEAN(7):MONTHLY_SAMPLE')\n",
        "('SAMPLE', 'ROLLING_MEAN(7):WEEKLY_SAMPLE')\n",
        "('SAMPLE', 'ROLLING_MEAN(7):SAMPLE')\n",
        "('MONTHLY_SAMPLE', 'ROLLING_MEAN(7):MONTHLY_SAMPLE')\n",
        "('WEEKLY_SAMPLE', 'ROLLING_MEAN(7):WEEKLY_SAMPLE')\n"
       ]
      }
     ],
     "prompt_number": 17
    },
    {
     "cell_type": "markdown",
     "metadata": {},
     "source": [
      "The combination `('WEEKLY_SAMPLE', 'ROLLING_MEAN7:SAMPLE')` is not called when using `for_synched` because `'ROLLING_MEAN7:SAMPLE'` is not based on `'WEEKLY_SAMPLE'` (not on its dependency tree). Note that `('SAMPLE', 'ROLLING_MEAN7:WEEKLY_SAMPLE')` was between the results because `'WEEKLY_SAMPLE'` is based on `'SAMPLE'` itself.\n",
      "\n",
      "### Selections (PART2)\n",
      "Selections are enables many awesome things... \n",
      "\n",
      "You can map and categorize sets of domain metrics, generate analysis over them and process of multiple datasources in a simple manner. \n",
      "\n",
      "First of all, can be iterated:"
     ]
    },
    {
     "cell_type": "code",
     "collapsed": false,
     "input": [
      "for reference in engine.select('SAMPLE_IN'):\n",
      "    print reference"
     ],
     "language": "python",
     "metadata": {},
     "outputs": [
      {
       "output_type": "stream",
       "stream": "stdout",
       "text": [
        "SAMPLE\n",
        "MONTHLY_SAMPLE\n",
        "WEEKLY_SAMPLE\n"
       ]
      }
     ],
     "prompt_number": 18
    },
    {
     "cell_type": "markdown",
     "metadata": {},
     "source": [
      "have a length and are able to retrieve a datasource processor directly:"
     ]
    },
    {
     "cell_type": "code",
     "collapsed": false,
     "input": [
      "engine.select('SAMPLE_IN').get(0).process('CITY_B')"
     ],
     "language": "python",
     "metadata": {},
     "outputs": [
      {
       "html": [
        "<div style=\"max-height:1000px;max-width:1500px;overflow:auto;\">\n",
        "<table border=\"1\" class=\"dataframe\">\n",
        "  <thead>\n",
        "    <tr style=\"text-align: right;\">\n",
        "      <th></th>\n",
        "      <th>values</th>\n",
        "    </tr>\n",
        "  </thead>\n",
        "  <tbody>\n",
        "    <tr>\n",
        "      <th>2000-01-31</th>\n",
        "      <td> 4.947107</td>\n",
        "    </tr>\n",
        "    <tr>\n",
        "      <th>2000-02-29</th>\n",
        "      <td> 4.411539</td>\n",
        "    </tr>\n",
        "    <tr>\n",
        "      <th>2000-03-31</th>\n",
        "      <td> 5.011573</td>\n",
        "    </tr>\n",
        "    <tr>\n",
        "      <th>2000-04-30</th>\n",
        "      <td> 5.233060</td>\n",
        "    </tr>\n",
        "    <tr>\n",
        "      <th>2000-05-31</th>\n",
        "      <td> 4.758613</td>\n",
        "    </tr>\n",
        "    <tr>\n",
        "      <th>2000-06-30</th>\n",
        "      <td> 5.264096</td>\n",
        "    </tr>\n",
        "    <tr>\n",
        "      <th>2000-07-31</th>\n",
        "      <td> 4.777212</td>\n",
        "    </tr>\n",
        "    <tr>\n",
        "      <th>2000-08-31</th>\n",
        "      <td> 4.656150</td>\n",
        "    </tr>\n",
        "    <tr>\n",
        "      <th>2000-09-30</th>\n",
        "      <td> 4.547722</td>\n",
        "    </tr>\n",
        "    <tr>\n",
        "      <th>2000-10-31</th>\n",
        "      <td> 4.638438</td>\n",
        "    </tr>\n",
        "    <tr>\n",
        "      <th>2000-11-30</th>\n",
        "      <td> 4.967614</td>\n",
        "    </tr>\n",
        "    <tr>\n",
        "      <th>2000-12-31</th>\n",
        "      <td> 5.103722</td>\n",
        "    </tr>\n",
        "    <tr>\n",
        "      <th>2001-01-31</th>\n",
        "      <td> 4.542600</td>\n",
        "    </tr>\n",
        "    <tr>\n",
        "      <th>2001-02-28</th>\n",
        "      <td> 5.317553</td>\n",
        "    </tr>\n",
        "    <tr>\n",
        "      <th>2001-03-31</th>\n",
        "      <td> 4.935711</td>\n",
        "    </tr>\n",
        "    <tr>\n",
        "      <th>2001-04-30</th>\n",
        "      <td> 4.792288</td>\n",
        "    </tr>\n",
        "    <tr>\n",
        "      <th>2001-05-31</th>\n",
        "      <td> 4.748307</td>\n",
        "    </tr>\n",
        "    <tr>\n",
        "      <th>2001-06-30</th>\n",
        "      <td> 5.284323</td>\n",
        "    </tr>\n",
        "    <tr>\n",
        "      <th>2001-07-31</th>\n",
        "      <td> 5.244392</td>\n",
        "    </tr>\n",
        "    <tr>\n",
        "      <th>2001-08-31</th>\n",
        "      <td> 5.148289</td>\n",
        "    </tr>\n",
        "    <tr>\n",
        "      <th>2001-09-30</th>\n",
        "      <td> 5.522277</td>\n",
        "    </tr>\n",
        "    <tr>\n",
        "      <th>2001-10-31</th>\n",
        "      <td> 5.033754</td>\n",
        "    </tr>\n",
        "    <tr>\n",
        "      <th>2001-11-30</th>\n",
        "      <td> 5.107804</td>\n",
        "    </tr>\n",
        "    <tr>\n",
        "      <th>2001-12-31</th>\n",
        "      <td> 4.691529</td>\n",
        "    </tr>\n",
        "    <tr>\n",
        "      <th>2002-01-31</th>\n",
        "      <td> 5.060569</td>\n",
        "    </tr>\n",
        "    <tr>\n",
        "      <th>2002-02-28</th>\n",
        "      <td> 4.931967</td>\n",
        "    </tr>\n",
        "    <tr>\n",
        "      <th>2002-03-31</th>\n",
        "      <td> 4.885832</td>\n",
        "    </tr>\n",
        "    <tr>\n",
        "      <th>2002-04-30</th>\n",
        "      <td> 5.170108</td>\n",
        "    </tr>\n",
        "    <tr>\n",
        "      <th>2002-05-31</th>\n",
        "      <td> 4.655722</td>\n",
        "    </tr>\n",
        "    <tr>\n",
        "      <th>2002-06-30</th>\n",
        "      <td> 4.911816</td>\n",
        "    </tr>\n",
        "    <tr>\n",
        "      <th>2002-07-31</th>\n",
        "      <td> 5.038281</td>\n",
        "    </tr>\n",
        "    <tr>\n",
        "      <th>2002-08-31</th>\n",
        "      <td> 4.441017</td>\n",
        "    </tr>\n",
        "    <tr>\n",
        "      <th>2002-09-30</th>\n",
        "      <td> 5.091982</td>\n",
        "    </tr>\n",
        "  </tbody>\n",
        "</table>\n",
        "</div>"
       ],
       "metadata": {},
       "output_type": "pyout",
       "prompt_number": 19,
       "text": [
        "              values\n",
        "2000-01-31  4.947107\n",
        "2000-02-29  4.411539\n",
        "2000-03-31  5.011573\n",
        "2000-04-30  5.233060\n",
        "2000-05-31  4.758613\n",
        "2000-06-30  5.264096\n",
        "2000-07-31  4.777212\n",
        "2000-08-31  4.656150\n",
        "2000-09-30  4.547722\n",
        "2000-10-31  4.638438\n",
        "2000-11-30  4.967614\n",
        "2000-12-31  5.103722\n",
        "2001-01-31  4.542600\n",
        "2001-02-28  5.317553\n",
        "2001-03-31  4.935711\n",
        "2001-04-30  4.792288\n",
        "2001-05-31  4.748307\n",
        "2001-06-30  5.284323\n",
        "2001-07-31  5.244392\n",
        "2001-08-31  5.148289\n",
        "2001-09-30  5.522277\n",
        "2001-10-31  5.033754\n",
        "2001-11-30  5.107804\n",
        "2001-12-31  4.691529\n",
        "2002-01-31  5.060569\n",
        "2002-02-28  4.931967\n",
        "2002-03-31  4.885832\n",
        "2002-04-30  5.170108\n",
        "2002-05-31  4.655722\n",
        "2002-06-30  4.911816\n",
        "2002-07-31  5.038281\n",
        "2002-08-31  4.441017\n",
        "2002-09-30  5.091982"
       ]
      }
     ],
     "prompt_number": 19
    },
    {
     "cell_type": "markdown",
     "metadata": {},
     "source": [
      "counts with a special syntax that allows selecting datasources based on it's dependencies (considering its whole dependency tree):"
     ]
    },
    {
     "cell_type": "code",
     "collapsed": false,
     "input": [
      "engine.select('{WEEKLY}')"
     ],
     "language": "python",
     "metadata": {},
     "outputs": [
      {
       "metadata": {},
       "output_type": "pyout",
       "prompt_number": 20,
       "text": [
        "<selection 174107916 currently-with=\"[\n",
        "    \"PERCENTUALT_CHANGE(1):ROLLING_MEAN(7):WEEKLY_SAMPLE\", \n",
        "    \"PERCENTUALT_CHANGE(3):ROLLING_MEAN(7):WEEKLY_SAMPLE\", \n",
        "    \"PERCENTUALT_CHANGE(5):WEEKLY_SAMPLE\", \n",
        "    \"ROLLING_MEAN(7):WEEKLY_SAMPLE\", \n",
        "    \"PERCENTUALT_CHANGE(3):WEEKLY_SAMPLE\", \n",
        "    \"PERCENTUALT_CHANGE(5):ROLLING_MEAN(7):WEEKLY_SAMPLE\", \n",
        "    \"PERCENTUALT_CHANGE(1):WEEKLY_SAMPLE\"\n",
        "]\">"
       ]
      }
     ],
     "prompt_number": 20
    },
    {
     "cell_type": "markdown",
     "metadata": {},
     "source": [
      "supports using multiple arguments, returning datasources that match all of them at once: "
     ]
    },
    {
     "cell_type": "code",
     "collapsed": false,
     "input": [
      "engine.select('{WEEKLY}', 'PERCENTUALT_CHANGE')"
     ],
     "language": "python",
     "metadata": {},
     "outputs": [
      {
       "metadata": {},
       "output_type": "pyout",
       "prompt_number": 21,
       "text": [
        "<selection 174865004 currently-with=\"[\n",
        "    \"PERCENTUALT_CHANGE(1):ROLLING_MEAN(7):WEEKLY_SAMPLE\", \n",
        "    \"PERCENTUALT_CHANGE(3):ROLLING_MEAN(7):WEEKLY_SAMPLE\", \n",
        "    \"PERCENTUALT_CHANGE(5):WEEKLY_SAMPLE\", \n",
        "    \"PERCENTUALT_CHANGE(3):WEEKLY_SAMPLE\", \n",
        "    \"PERCENTUALT_CHANGE(5):ROLLING_MEAN(7):WEEKLY_SAMPLE\", \n",
        "    \"PERCENTUALT_CHANGE(1):WEEKLY_SAMPLE\"\n",
        "]\">"
       ]
      }
     ],
     "prompt_number": 21
    },
    {
     "cell_type": "markdown",
     "metadata": {},
     "source": [
      "Selections also implement \"set like\" operations (all, union, intersection, difference and symmetric_difference):"
     ]
    },
    {
     "cell_type": "code",
     "collapsed": false,
     "input": [
      "engine.select('{WEEKLY}').intersection('PERCENTUALT_CHANGE')"
     ],
     "language": "python",
     "metadata": {},
     "outputs": [
      {
       "metadata": {},
       "output_type": "pyout",
       "prompt_number": 22,
       "text": [
        "<selection 174862412 currently-with=\"[\n",
        "    \"PERCENTUALT_CHANGE(1):ROLLING_MEAN(7):WEEKLY_SAMPLE\", \n",
        "    \"PERCENTUALT_CHANGE(3):WEEKLY_SAMPLE\", \n",
        "    \"PERCENTUALT_CHANGE(3):ROLLING_MEAN(7):WEEKLY_SAMPLE\", \n",
        "    \"PERCENTUALT_CHANGE(5):WEEKLY_SAMPLE\", \n",
        "    \"PERCENTUALT_CHANGE(5):ROLLING_MEAN(7):WEEKLY_SAMPLE\", \n",
        "    \"PERCENTUALT_CHANGE(1):WEEKLY_SAMPLE\"\n",
        "]\">"
       ]
      }
     ],
     "prompt_number": 22
    },
    {
     "cell_type": "code",
     "collapsed": false,
     "input": [
      "s1 = engine.select('{WEEKLY}').intersection('PERCENTUALT_CHANGE').difference('PERCENTUALT_CHANGE(1)')\n",
      "s1"
     ],
     "language": "python",
     "metadata": {},
     "outputs": [
      {
       "metadata": {},
       "output_type": "pyout",
       "prompt_number": 23,
       "text": [
        "<selection 174185932 currently-with=\"[\n",
        "    \"PERCENTUALT_CHANGE(3):WEEKLY_SAMPLE\", \n",
        "    \"PERCENTUALT_CHANGE(3):ROLLING_MEAN(7):WEEKLY_SAMPLE\", \n",
        "    \"PERCENTUALT_CHANGE(5):WEEKLY_SAMPLE\", \n",
        "    \"PERCENTUALT_CHANGE(5):ROLLING_MEAN(7):WEEKLY_SAMPLE\"\n",
        "]\">"
       ]
      }
     ],
     "prompt_number": 23
    },
    {
     "cell_type": "code",
     "collapsed": false,
     "input": [
      "s1.difference('PERCENTUALT_CHANGE(1)').union('SAMPLE_IN')"
     ],
     "language": "python",
     "metadata": {},
     "outputs": [
      {
       "metadata": {},
       "output_type": "pyout",
       "prompt_number": 24,
       "text": [
        "<selection 174153708 currently-with=\"[\n",
        "    \"MONTHLY_SAMPLE\", \n",
        "    \"PERCENTUALT_CHANGE(3):WEEKLY_SAMPLE\", \n",
        "    \"WEEKLY_SAMPLE\", \n",
        "    \"SAMPLE\", \n",
        "    \"PERCENTUALT_CHANGE(3):ROLLING_MEAN(7):WEEKLY_SAMPLE\", \n",
        "    \"PERCENTUALT_CHANGE(5):WEEKLY_SAMPLE\", \n",
        "    \"PERCENTUALT_CHANGE(5):ROLLING_MEAN(7):WEEKLY_SAMPLE\"\n",
        "]\">"
       ]
      }
     ],
     "prompt_number": 24
    },
    {
     "cell_type": "code",
     "collapsed": false,
     "input": [
      "engine.select().all()"
     ],
     "language": "python",
     "metadata": {},
     "outputs": [
      {
       "metadata": {},
       "output_type": "pyout",
       "prompt_number": 25,
       "text": [
        "<selection 172533836 currently-with=\"[\n",
        "    \"PERCENTUALT_CHANGE(5):ROLLING_MEAN(7):MONTHLY_SAMPLE\", \n",
        "    \"PERCENTUALT_CHANGE(3):WEEKLY_SAMPLE\", \n",
        "    \"PERCENTUALT_CHANGE(1):SAMPLE\", \n",
        "    \"PERCENTUALT_CHANGE(3):ROLLING_MEAN(7):WEEKLY_SAMPLE\", \n",
        "    \"ROLLING_MEAN(7):SAMPLE\", \n",
        "    \"PERCENTUALT_CHANGE(5):WEEKLY_SAMPLE\", \n",
        "    \"PERCENTUALT_CHANGE(1):MONTHLY_SAMPLE\", \n",
        "    \"PERCENTUALT_CHANGE(1):ROLLING_MEAN(7):WEEKLY_SAMPLE\", \n",
        "    \"PERCENTUALT_CHANGE(3):MONTHLY_SAMPLE\", \n",
        "    \"PERCENTUALT_CHANGE(3):ROLLING_MEAN(7):MONTHLY_SAMPLE\", \n",
        "    \"PERCENTUALT_CHANGE(3):SAMPLE\", \n",
        "    \"ROLLING_MEAN(7):MONTHLY_SAMPLE\", \n",
        "    \"PERCENTUALT_CHANGE(5):ROLLING_MEAN(7):SAMPLE\", \n",
        "    \"PERCENTUALT_CHANGE(1):WEEKLY_SAMPLE\", \n",
        "    \"PERCENTUALT_CHANGE(5):SAMPLE\", \n",
        "    \"SAMPLE\", \n",
        "    \"ROLLING_MEAN(7):WEEKLY_SAMPLE\", \n",
        "    \"PERCENTUALT_CHANGE(5):ROLLING_MEAN(7):WEEKLY_SAMPLE\", \n",
        "    \"PERCENTUALT_CHANGE(1):ROLLING_MEAN(7):MONTHLY_SAMPLE\", \n",
        "    \"PERCENTUALT_CHANGE(5):MONTHLY_SAMPLE\", \n",
        "    \"PERCENTUALT_CHANGE(1):ROLLING_MEAN(7):SAMPLE\", \n",
        "    \"MONTHLY_SAMPLE\", \n",
        "    \"PERCENTUALT_CHANGE(3):ROLLING_MEAN(7):SAMPLE\", \n",
        "    \"WEEKLY_SAMPLE\"\n",
        "]\">"
       ]
      }
     ],
     "prompt_number": 25
    },
    {
     "cell_type": "markdown",
     "metadata": {},
     "source": [
      "### IMPORTANT\n",
      "\n",
      "Selections __selection objects are automatically updated__: Under the hood, selections are lazy evaluated. The object does not store any references itself, it stores the sequence of operations it's built with through it's fluent interface and evaluates all of them as needed."
     ]
    }
   ],
   "metadata": {}
  }
 ]
}